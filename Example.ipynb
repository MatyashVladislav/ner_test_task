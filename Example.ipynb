{
 "cells": [
  {
   "cell_type": "code",
   "execution_count": 1,
   "metadata": {},
   "outputs": [],
   "source": [
    "import spacy"
   ]
  },
  {
   "cell_type": "code",
   "execution_count": 2,
   "metadata": {},
   "outputs": [],
   "source": [
    "def create_list_ents(text, lg_code):\n",
    "    if lg_code=='en':\n",
    "        nlp = spacy.load('en_core_web_sm')\n",
    "    elif lg_code=='xx':\n",
    "        nlp = spacy.load('xx_ent_wiki_sm')\n",
    "    else:\n",
    "        nlp = spacy.load(f'{lg_code}_core_news_sm')\n",
    "    ent_list = []\n",
    "    doc = nlp(text)\n",
    "    if doc.ents:\n",
    "        for ent in doc.ents:\n",
    "            ent_dict = {}\n",
    "            ent_dict['text'] = ent.text\n",
    "            ent_dict['type'] = spacy.explain(ent.label_)\n",
    "            ent_dict['start_pos'] = ent.start_char\n",
    "            ent_dict['end_pos'] = ent.end_char\n",
    "            \n",
    "            ent_list.append(ent_dict)\n",
    "    else: \n",
    "        print('No named entities found.')\n",
    "    return ent_list\n"
   ]
  },
  {
   "cell_type": "code",
   "execution_count": 3,
   "metadata": {},
   "outputs": [
    {
     "data": {
      "text/plain": [
       "[{'text': 'Apple',\n",
       "  'type': 'Companies, agencies, institutions, etc.',\n",
       "  'start_pos': 0,\n",
       "  'end_pos': 5},\n",
       " {'text': 'U.K.',\n",
       "  'type': 'Countries, cities, states',\n",
       "  'start_pos': 27,\n",
       "  'end_pos': 31},\n",
       " {'text': '$1 billion',\n",
       "  'type': 'Monetary values, including unit',\n",
       "  'start_pos': 44,\n",
       "  'end_pos': 54}]"
      ]
     },
     "execution_count": 3,
     "metadata": {},
     "output_type": "execute_result"
    }
   ],
   "source": [
    "text = \"Apple is looking at buying U.K. startup for $1 billion\"\n",
    "create_list_ents(text, 'en')"
   ]
  },
  {
   "cell_type": "code",
   "execution_count": 4,
   "metadata": {},
   "outputs": [
    {
     "data": {
      "text/plain": [
       "[{'text': 'Apple',\n",
       "  'type': 'Companies, agencies, institutions, etc.',\n",
       "  'start_pos': 0,\n",
       "  'end_pos': 5},\n",
       " {'text': 'Стивом Джобсом',\n",
       "  'type': 'Named person or family.',\n",
       "  'start_pos': 22,\n",
       "  'end_pos': 36}]"
      ]
     },
     "execution_count": 4,
     "metadata": {},
     "output_type": "execute_result"
    }
   ],
   "source": [
    "text = \"Apple фирма созданная Стивом Джобсом\"\n",
    "create_list_ents(text, 'ru')"
   ]
  },
  {
   "cell_type": "code",
   "execution_count": null,
   "metadata": {},
   "outputs": [],
   "source": []
  }
 ],
 "metadata": {
  "kernelspec": {
   "display_name": "grover2",
   "language": "python",
   "name": "grover2"
  },
  "language_info": {
   "codemirror_mode": {
    "name": "ipython",
    "version": 3
   },
   "file_extension": ".py",
   "mimetype": "text/x-python",
   "name": "python",
   "nbconvert_exporter": "python",
   "pygments_lexer": "ipython3",
   "version": "3.8.13"
  }
 },
 "nbformat": 4,
 "nbformat_minor": 4
}
